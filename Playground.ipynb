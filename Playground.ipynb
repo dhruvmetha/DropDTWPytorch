{
 "cells": [
  {
   "cell_type": "code",
   "execution_count": 1,
   "id": "fd01cc1c",
   "metadata": {},
   "outputs": [],
   "source": [
    "from pathlib import Path\n",
    "from tqdm import tqdm\n",
    "\n",
    "import numpy as np\n",
    "import pandas as pd\n",
    "import os\n",
    "import json"
   ]
  },
  {
   "cell_type": "code",
   "execution_count": 2,
   "id": "617a7149",
   "metadata": {},
   "outputs": [],
   "source": [
    "PATH = Path('data')\n",
    "data = None\n",
    "with open(PATH/'youcookii_annotations_trainval.json', 'rb') as f:\n",
    "    data = json.load(f)"
   ]
  },
  {
   "cell_type": "code",
   "execution_count": null,
   "id": "28521d65",
   "metadata": {},
   "outputs": [],
   "source": [
    "text_data_file = PATH/'youcook_text.csv'\n",
    "text_dataset = []\n",
    "\n",
    "for _id, rec in tqdm(data['database'].items()):\n",
    "    recipe_type = rec['recipe_type']\n",
    "    subset = rec['subset']\n",
    "    for ann in rec['annotations']:\n",
    "        text_dataset.append([recipe_type, subset, ann['id'], ann['segment'], ann['sentence']])\n",
    "df = pd.DataFrame(text_dataset, columns=['recipe_type', 'subset', 'id', 'segment', 'sentence'])\n",
    "df.to_csv(text_data_file, index=False)"
   ]
  },
  {
   "cell_type": "code",
   "execution_count": 5,
   "id": "d27ed02c",
   "metadata": {},
   "outputs": [
    {
     "data": {
      "text/html": [
       "<div>\n",
       "<style scoped>\n",
       "    .dataframe tbody tr th:only-of-type {\n",
       "        vertical-align: middle;\n",
       "    }\n",
       "\n",
       "    .dataframe tbody tr th {\n",
       "        vertical-align: top;\n",
       "    }\n",
       "\n",
       "    .dataframe thead th {\n",
       "        text-align: right;\n",
       "    }\n",
       "</style>\n",
       "<table border=\"1\" class=\"dataframe\">\n",
       "  <thead>\n",
       "    <tr style=\"text-align: right;\">\n",
       "      <th></th>\n",
       "      <th>recipe_type</th>\n",
       "      <th>subset</th>\n",
       "      <th>id</th>\n",
       "      <th>segment</th>\n",
       "      <th>sentence</th>\n",
       "    </tr>\n",
       "  </thead>\n",
       "  <tbody>\n",
       "    <tr>\n",
       "      <th>0</th>\n",
       "      <td>113</td>\n",
       "      <td>training</td>\n",
       "      <td>0</td>\n",
       "      <td>[90, 102]</td>\n",
       "      <td>spread margarine on two slices of white bread</td>\n",
       "    </tr>\n",
       "    <tr>\n",
       "      <th>1</th>\n",
       "      <td>113</td>\n",
       "      <td>training</td>\n",
       "      <td>1</td>\n",
       "      <td>[114, 127]</td>\n",
       "      <td>place a slice of cheese on the bread</td>\n",
       "    </tr>\n",
       "    <tr>\n",
       "      <th>2</th>\n",
       "      <td>113</td>\n",
       "      <td>training</td>\n",
       "      <td>2</td>\n",
       "      <td>[132, 138]</td>\n",
       "      <td>place the bread slices on top of each other an...</td>\n",
       "    </tr>\n",
       "    <tr>\n",
       "      <th>3</th>\n",
       "      <td>113</td>\n",
       "      <td>training</td>\n",
       "      <td>3</td>\n",
       "      <td>[139, 145]</td>\n",
       "      <td>flip the sandwich over and press down</td>\n",
       "    </tr>\n",
       "    <tr>\n",
       "      <th>4</th>\n",
       "      <td>113</td>\n",
       "      <td>training</td>\n",
       "      <td>4</td>\n",
       "      <td>[173, 174]</td>\n",
       "      <td>cut the sandwich in half diagonally</td>\n",
       "    </tr>\n",
       "  </tbody>\n",
       "</table>\n",
       "</div>"
      ],
      "text/plain": [
       "   recipe_type    subset  id     segment  \\\n",
       "0          113  training   0   [90, 102]   \n",
       "1          113  training   1  [114, 127]   \n",
       "2          113  training   2  [132, 138]   \n",
       "3          113  training   3  [139, 145]   \n",
       "4          113  training   4  [173, 174]   \n",
       "\n",
       "                                            sentence  \n",
       "0      spread margarine on two slices of white bread  \n",
       "1               place a slice of cheese on the bread  \n",
       "2  place the bread slices on top of each other an...  \n",
       "3              flip the sandwich over and press down  \n",
       "4                cut the sandwich in half diagonally  "
      ]
     },
     "execution_count": 5,
     "metadata": {},
     "output_type": "execute_result"
    }
   ],
   "source": [
    "text_data_file = PATH/'youcook_text.csv'\n",
    "df = pd.read_csv(text_data_file)\n",
    "df.head()"
   ]
  },
  {
   "cell_type": "code",
   "execution_count": null,
   "id": "f34b4920",
   "metadata": {},
   "outputs": [],
   "source": [
    "sorted(os.listdir(PATH/'feat_dat/train_frame_feat/102/0IuQKThr-pM/0001'))\n",
    "\n",
    "np.loadtxt(PATH/'feat_dat/train_frame_feat/102/0IuQKThr-pM/0001/resnet_34_feat_mscoco.dat')"
   ]
  },
  {
   "cell_type": "code",
   "execution_count": null,
   "id": "486cf8f5",
   "metadata": {},
   "outputs": [],
   "source": [
    "sorted(os.listdir(PATH/'features'/'feat_csv/train_frame_feat_csv/101'))"
   ]
  },
  {
   "cell_type": "code",
   "execution_count": null,
   "id": "f36e7a75",
   "metadata": {},
   "outputs": [],
   "source": [
    "df = pd.read_csv(PATH/'features'/'feat_csv/train_frame_feat_csv/113/2vNPfc8LaTc/0010/resnet_34_feat_mscoco.csv', header=None)\n",
    "df.shape"
   ]
  },
  {
   "cell_type": "code",
   "execution_count": null,
   "id": "784afa25",
   "metadata": {},
   "outputs": [],
   "source": [
    "# train_split = None\n",
    "# with open(PATH/'splits/train_list.txt', 'r') as f:\n",
    "#     train_split = f.readlines()\n",
    "# train_split\n",
    "os.listdir(PATH/'splits')"
   ]
  },
  {
   "cell_type": "code",
   "execution_count": null,
   "id": "96f90df7",
   "metadata": {},
   "outputs": [],
   "source": [
    "df_linker = pd.read_csv(PATH/'splits'/'train_duration_totalframe.csv')\n",
    "df_linker[df_linker['vid_id'] == '2vNPfc8LaTc']"
   ]
  },
  {
   "cell_type": "code",
   "execution_count": null,
   "id": "18e3c58c",
   "metadata": {},
   "outputs": [],
   "source": []
  }
 ],
 "metadata": {
  "kernelspec": {
   "display_name": "Python 3 (ipykernel)",
   "language": "python",
   "name": "python3"
  },
  "language_info": {
   "codemirror_mode": {
    "name": "ipython",
    "version": 3
   },
   "file_extension": ".py",
   "mimetype": "text/x-python",
   "name": "python",
   "nbconvert_exporter": "python",
   "pygments_lexer": "ipython3",
   "version": "3.8.10"
  }
 },
 "nbformat": 4,
 "nbformat_minor": 5
}
