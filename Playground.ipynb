{
 "cells": [
  {
   "cell_type": "code",
   "execution_count": 10,
   "id": "fd01cc1c",
   "metadata": {},
   "outputs": [
    {
     "ename": "ImportError",
     "evalue": "libGL.so.1: cannot open shared object file: No such file or directory",
     "output_type": "error",
     "traceback": [
      "\u001b[0;31m---------------------------------------------------------------------------\u001b[0m",
      "\u001b[0;31mImportError\u001b[0m                               Traceback (most recent call last)",
      "\u001b[0;32m/tmp/ipykernel_3436057/3920041590.py\u001b[0m in \u001b[0;36m<module>\u001b[0;34m\u001b[0m\n\u001b[1;32m     11\u001b[0m \u001b[0;32mimport\u001b[0m \u001b[0mtorch\u001b[0m\u001b[0;34m\u001b[0m\u001b[0;34m\u001b[0m\u001b[0m\n\u001b[1;32m     12\u001b[0m \u001b[0;34m\u001b[0m\u001b[0m\n\u001b[0;32m---> 13\u001b[0;31m \u001b[0;32mimport\u001b[0m \u001b[0mcv2\u001b[0m\u001b[0;34m\u001b[0m\u001b[0;34m\u001b[0m\u001b[0m\n\u001b[0m",
      "\u001b[0;32m~/.local/lib/python3.8/site-packages/cv2/__init__.py\u001b[0m in \u001b[0;36m<module>\u001b[0;34m\u001b[0m\n\u001b[1;32m      6\u001b[0m \u001b[0;32mimport\u001b[0m \u001b[0msys\u001b[0m\u001b[0;34m\u001b[0m\u001b[0;34m\u001b[0m\u001b[0m\n\u001b[1;32m      7\u001b[0m \u001b[0;34m\u001b[0m\u001b[0m\n\u001b[0;32m----> 8\u001b[0;31m \u001b[0;32mfrom\u001b[0m \u001b[0;34m.\u001b[0m\u001b[0mcv2\u001b[0m \u001b[0;32mimport\u001b[0m \u001b[0;34m*\u001b[0m\u001b[0;34m\u001b[0m\u001b[0;34m\u001b[0m\u001b[0m\n\u001b[0m\u001b[1;32m      9\u001b[0m \u001b[0;32mfrom\u001b[0m \u001b[0;34m.\u001b[0m\u001b[0mcv2\u001b[0m \u001b[0;32mimport\u001b[0m \u001b[0m_registerMatType\u001b[0m\u001b[0;34m\u001b[0m\u001b[0;34m\u001b[0m\u001b[0m\n\u001b[1;32m     10\u001b[0m \u001b[0;32mfrom\u001b[0m \u001b[0;34m.\u001b[0m \u001b[0;32mimport\u001b[0m \u001b[0mmat_wrapper\u001b[0m\u001b[0;34m\u001b[0m\u001b[0;34m\u001b[0m\u001b[0m\n",
      "\u001b[0;31mImportError\u001b[0m: libGL.so.1: cannot open shared object file: No such file or directory"
     ]
    }
   ],
   "source": [
    "from pathlib import Path\n",
    "from tqdm import tqdm\n",
    "from sklearn.decomposition import PCA\n",
    "\n",
    "import math\n",
    "import numpy as np\n",
    "import pandas as pd\n",
    "import os\n",
    "import json\n",
    "import pickle\n",
    "import torch\n",
    "\n"
   ]
  },
  {
   "cell_type": "code",
   "execution_count": 2,
   "id": "617a7149",
   "metadata": {},
   "outputs": [],
   "source": [
    "PATH = Path('data')\n",
    "data = None\n",
    "with open(PATH/'youcookii_annotations_trainval.json', 'rb') as f:\n",
    "    data = json.load(f)\n",
    "    \n",
    "    "
   ]
  },
  {
   "cell_type": "code",
   "execution_count": 9,
   "id": "b8b1a040",
   "metadata": {},
   "outputs": [
    {
     "ename": "ImportError",
     "evalue": "libGL.so.1: cannot open shared object file: No such file or directory",
     "output_type": "error",
     "traceback": [
      "\u001b[0;31m---------------------------------------------------------------------------\u001b[0m",
      "\u001b[0;31mImportError\u001b[0m                               Traceback (most recent call last)",
      "\u001b[0;32m/tmp/ipykernel_3436057/421061251.py\u001b[0m in \u001b[0;36m<module>\u001b[0;34m\u001b[0m\n\u001b[1;32m      1\u001b[0m \u001b[0;32mimport\u001b[0m \u001b[0mclip\u001b[0m\u001b[0;34m\u001b[0m\u001b[0;34m\u001b[0m\u001b[0m\n\u001b[0;32m----> 2\u001b[0;31m \u001b[0;32mimport\u001b[0m \u001b[0mcv2\u001b[0m\u001b[0;34m\u001b[0m\u001b[0;34m\u001b[0m\u001b[0m\n\u001b[0m",
      "\u001b[0;32m~/.local/lib/python3.8/site-packages/cv2/__init__.py\u001b[0m in \u001b[0;36m<module>\u001b[0;34m\u001b[0m\n\u001b[1;32m      6\u001b[0m \u001b[0;32mimport\u001b[0m \u001b[0msys\u001b[0m\u001b[0;34m\u001b[0m\u001b[0;34m\u001b[0m\u001b[0m\n\u001b[1;32m      7\u001b[0m \u001b[0;34m\u001b[0m\u001b[0m\n\u001b[0;32m----> 8\u001b[0;31m \u001b[0;32mfrom\u001b[0m \u001b[0;34m.\u001b[0m\u001b[0mcv2\u001b[0m \u001b[0;32mimport\u001b[0m \u001b[0;34m*\u001b[0m\u001b[0;34m\u001b[0m\u001b[0;34m\u001b[0m\u001b[0m\n\u001b[0m\u001b[1;32m      9\u001b[0m \u001b[0;32mfrom\u001b[0m \u001b[0;34m.\u001b[0m\u001b[0mcv2\u001b[0m \u001b[0;32mimport\u001b[0m \u001b[0m_registerMatType\u001b[0m\u001b[0;34m\u001b[0m\u001b[0;34m\u001b[0m\u001b[0m\n\u001b[1;32m     10\u001b[0m \u001b[0;32mfrom\u001b[0m \u001b[0;34m.\u001b[0m \u001b[0;32mimport\u001b[0m \u001b[0mmat_wrapper\u001b[0m\u001b[0;34m\u001b[0m\u001b[0;34m\u001b[0m\u001b[0m\n",
      "\u001b[0;31mImportError\u001b[0m: libGL.so.1: cannot open shared object file: No such file or directory"
     ]
    }
   ],
   "source": [
    "import clip"
   ]
  },
  {
   "cell_type": "code",
   "execution_count": 7,
   "id": "65c4d1c9",
   "metadata": {},
   "outputs": [],
   "source": [
    "device = \"cuda\" if torch.cuda.is_available() else \"cpu\"\n",
    "model, preprocess = clip.load('/common/home/dm1487/loaded_models/clip/ViT-B-32.pt', device=device)\n"
   ]
  },
  {
   "cell_type": "code",
   "execution_count": null,
   "id": "99238c7b",
   "metadata": {},
   "outputs": [],
   "source": [
    "image = preprocess(Image.open(\"CLIP.png\")).unsqueeze(0).to(device)\n",
    "# text = clip.tokenize([\"a diagram\", \"a dog\", \"a cat\"]).to(device)"
   ]
  },
  {
   "cell_type": "code",
   "execution_count": 8,
   "id": "6d994d82",
   "metadata": {},
   "outputs": [
    {
     "name": "stdout",
     "output_type": "stream",
     "text": [
      "Sat Apr 23 21:59:49 2022       \r\n",
      "+-----------------------------------------------------------------------------+\r\n",
      "| NVIDIA-SMI 470.57.02    Driver Version: 470.57.02    CUDA Version: 11.4     |\r\n",
      "|-------------------------------+----------------------+----------------------+\r\n",
      "| GPU  Name        Persistence-M| Bus-Id        Disp.A | Volatile Uncorr. ECC |\r\n",
      "| Fan  Temp  Perf  Pwr:Usage/Cap|         Memory-Usage | GPU-Util  Compute M. |\r\n",
      "|                               |                      |               MIG M. |\r\n",
      "|===============================+======================+======================|\r\n",
      "|   0  NVIDIA RTX A4000    On   | 00000000:1A:00.0 Off |                 Off* |\r\n",
      "| 41%   46C    P2    37W / 140W |   1124MiB / 16117MiB |      0%      Default |\r\n",
      "|                               |                      |                  N/A |\r\n",
      "+-------------------------------+----------------------+----------------------+\r\n",
      "|   1  NVIDIA RTX A4000    On   | 00000000:1B:00.0 Off |                 Off* |\r\n",
      "| 65%   83C    P2   119W / 140W |  15466MiB / 16117MiB |    100%      Default |\r\n",
      "|                               |                      |                  N/A |\r\n",
      "+-------------------------------+----------------------+----------------------+\r\n",
      "|   2  NVIDIA RTX A4000    On   | 00000000:DA:00.0 Off |                 Off* |\r\n",
      "| 41%   49C    P2    38W / 140W |   5054MiB / 16117MiB |      0%      Default |\r\n",
      "|                               |                      |                  N/A |\r\n",
      "+-------------------------------+----------------------+----------------------+\r\n",
      "|   3  NVIDIA RTX A4000    On   | 00000000:DB:00.0 Off |                 Off* |\r\n",
      "| 41%   50C    P2    35W / 140W |   5034MiB / 16117MiB |      0%      Default |\r\n",
      "|                               |                      |                  N/A |\r\n",
      "+-------------------------------+----------------------+----------------------+\r\n",
      "                                                                               \r\n",
      "+-----------------------------------------------------------------------------+\r\n",
      "| Processes:                                                                  |\r\n",
      "|  GPU   GI   CI        PID   Type   Process name                  GPU Memory |\r\n",
      "|        ID   ID                                                   Usage      |\r\n",
      "|=============================================================================|\r\n",
      "|    0   N/A  N/A   3436057      C   /opt/conda/bin/python3.8         1121MiB |\r\n",
      "|    1   N/A  N/A    504821      C   .../envs/python39/bin/python    15463MiB |\r\n",
      "|    2   N/A  N/A   1587932      C   python                           5051MiB |\r\n",
      "|    3   N/A  N/A   1587932      C   python                           5031MiB |\r\n",
      "+-----------------------------------------------------------------------------+\r\n"
     ]
    }
   ],
   "source": [
    "!nvidia-smi"
   ]
  },
  {
   "cell_type": "code",
   "execution_count": null,
   "id": "28521d65",
   "metadata": {},
   "outputs": [],
   "source": [
    "# # text_data_file = PATH/'youcook_text.csv'\n",
    "# # text_dataset = []\n",
    "\n",
    "# # for _id, rec in tqdm(data['database'].items()):\n",
    "# #     recipe_type = rec['recipe_type']\n",
    "# #     subset = rec['subset']\n",
    "# #     for ann in rec['annotations']:\n",
    "# #         text_dataset.append([recipe_type, _id, subset, ann['id'], ann['segment'], ann['sentence']])\n",
    "# # df = pd.DataFrame(text_dataset, columns=['recipe_type', 'key', 'subset', 'id', 'segment', 'sentence'])\n",
    "# # df.to_csv(text_data_file, index=False)\n",
    "# data['database']['ucky1nWb7LY']"
   ]
  },
  {
   "cell_type": "code",
   "execution_count": null,
   "id": "32d9990b",
   "metadata": {},
   "outputs": [],
   "source": [
    "DATA_PATH = Path('/common/users/dm1487/YouCookII')\n",
    "os.listdir(DATA_PATH/'features/feat_csv/train_frame_feat_csv/101/ucky1nWb7LY/0001')\n",
    "DATA_DIR = DATA_PATH/'features/feat_csv/train_frame_feat_csv/101/ucky1nWb7LY/0001'\n",
    "df = pd.read_csv(DATA_DIR/'resnet_34_feat_mscoco.csv', header=None)\n",
    "\n",
    "image_features = np.array([df.iloc[i].tolist() for i in range(df.shape[0])])\n",
    "image_features.shape"
   ]
  },
  {
   "cell_type": "code",
   "execution_count": null,
   "id": "d27ed02c",
   "metadata": {},
   "outputs": [],
   "source": [
    "text_data_file = PATH/'youcook_text.csv'\n",
    "df_text = pd.read_csv(text_data_file)\n",
    "df_text[df_text['key'] == 'ucky1nWb7LY'].index "
   ]
  },
  {
   "cell_type": "code",
   "execution_count": null,
   "id": "ed1d5c57",
   "metadata": {},
   "outputs": [],
   "source": [
    "# with open(PATH/'features_text_instructions/all_text_features.pkl', 'rb') as f:\n",
    "#     text_features = pickle.load(f)\n",
    "text_features = torch.load(PATH/'features_text_instructions/all_text_features.pkl')\n",
    "# text_features[df_text[df_text['key'] == 'ucky1nWb7LY'].index].shape"
   ]
  },
  {
   "cell_type": "code",
   "execution_count": null,
   "id": "757664f8",
   "metadata": {},
   "outputs": [],
   "source": [
    "pca = PCA(512)\n",
    "# print(text_features.cpu().numpy())\n",
    "text_features_dr = torch.tensor(pca.fit_transform(text_features.cpu().numpy()))"
   ]
  },
  {
   "cell_type": "code",
   "execution_count": null,
   "id": "daf7024c",
   "metadata": {},
   "outputs": [],
   "source": [
    "text_features_dr.size()"
   ]
  },
  {
   "cell_type": "code",
   "execution_count": null,
   "id": "04892444",
   "metadata": {},
   "outputs": [],
   "source": [
    "mat = text_features_dr[df_text[df_text['key'] == 'ucky1nWb7LY'].index] @ image_features.T"
   ]
  },
  {
   "cell_type": "code",
   "execution_count": null,
   "id": "063cb858",
   "metadata": {},
   "outputs": [],
   "source": [
    "# torch.softmax(mat, dim = 0)\n",
    "val, ind = torch.topk(mat, dim=1, k=10)\n",
    "torch.sort(ind,dim=1)"
   ]
  },
  {
   "cell_type": "code",
   "execution_count": null,
   "id": "f34b4920",
   "metadata": {},
   "outputs": [],
   "source": [
    "sorted(os.listdir(PATH/'feat_dat/train_frame_feat/102/0IuQKThr-pM/0001'))\n",
    "\n",
    "np.loadtxt(PATH/'feat_dat/train_frame_feat/102/0IuQKThr-pM/0001/resnet_34_feat_mscoco.dat')"
   ]
  },
  {
   "cell_type": "code",
   "execution_count": null,
   "id": "486cf8f5",
   "metadata": {},
   "outputs": [],
   "source": [
    "sorted(os.listdir(PATH/'features'/'feat_csv/train_frame_feat_csv/101'))"
   ]
  },
  {
   "cell_type": "code",
   "execution_count": null,
   "id": "f36e7a75",
   "metadata": {},
   "outputs": [],
   "source": [
    "df = pd.read_csv(PATH/'features'/'feat_csv/train_frame_feat_csv/113/2vNPfc8LaTc/0010/resnet_34_feat_mscoco.csv', header=None)\n",
    "df.shape"
   ]
  },
  {
   "cell_type": "code",
   "execution_count": null,
   "id": "784afa25",
   "metadata": {},
   "outputs": [],
   "source": [
    "# train_split = None\n",
    "# with open(PATH/'splits/train_list.txt', 'r') as f:\n",
    "#     train_split = f.readlines()\n",
    "# train_split\n",
    "os.listdir(PATH/'splits')"
   ]
  },
  {
   "cell_type": "code",
   "execution_count": null,
   "id": "96f90df7",
   "metadata": {},
   "outputs": [],
   "source": [
    "df_linker = pd.read_csv(PATH/'splits'/'train_duration_totalframe.csv')\n",
    "# df_linker[df_linker['vid_id'] == '2vNPfc8LaTc']\n",
    "df_linker['I'] = (df_linker['total_frame']/500).apply(math.ceil)\n",
    "df_linker['fps'] = (df_linker['total_frame']/df_linker['duration']).apply(math.ceil)\n",
    "df_linker['spf'] = (1/df_linker['fps'])\n",
    "df_linker.head()"
   ]
  },
  {
   "cell_type": "code",
   "execution_count": null,
   "id": "18e3c58c",
   "metadata": {},
   "outputs": [],
   "source": [
    "# df.set_index('key').join(df_linker.set_index('vid_id')).head(20)"
   ]
  },
  {
   "cell_type": "code",
   "execution_count": null,
   "id": "55f395a2",
   "metadata": {},
   "outputs": [],
   "source": [
    "# df_linker['frames_needed'] = [None] * df_linker.shape[0]\n",
    "frames_disected = []\n",
    "for idx, row in df_linker.iterrows():\n",
    "    frames_needed = []\n",
    "    frames_repre = []\n",
    "    m = 0\n",
    "    while m < row['total_frame']:\n",
    "        frames_needed.append(m)\n",
    "        frames_repre.append(m * row['spf'])\n",
    "        m += row['I']\n",
    "#     print(frames_needed)\n",
    "    frames_disected.append([row['vid_id'], frames_needed.copy(), frames_repre.copy()])\n",
    "#     break\n",
    "# df_linker.head()\n",
    "# df_linker['frames_needed'] = df_linker['fps']/df_linker['I']"
   ]
  },
  {
   "cell_type": "code",
   "execution_count": null,
   "id": "54d95992",
   "metadata": {},
   "outputs": [],
   "source": [
    "df_segments = pd.DataFrame(frames_disected, columns=['vid_id', 'frames_recorded', 'segments']).set_index('vid_id').join(df.set_index('key'))\n",
    "df_segments['segment'] = df_segments['segment'].apply(eval)\n",
    "df_segments.head()"
   ]
  },
  {
   "cell_type": "code",
   "execution_count": null,
   "id": "74330e7b",
   "metadata": {},
   "outputs": [],
   "source": [
    "frames_needed_for_extract = []\n",
    "for idx, row in df_segments.iterrows():\n",
    "    start, end = tuple(row['segment'])\n",
    "    arr = np.array(row['segments'])\n",
    "    arg_index = np.argwhere((arr >= start) & (arr < end))\n",
    "    frames_needed_for_extract.append([idx, arg_index.flatten().tolist()])\n",
    "\n",
    "df_extract = pd.DataFrame(frames_needed_for_extract, columns=['vid_id', 'extract'])"
   ]
  },
  {
   "cell_type": "code",
   "execution_count": null,
   "id": "2431e4b5",
   "metadata": {},
   "outputs": [],
   "source": [
    "df.set_index('key').join(df_extract.set_index('vid_id'))"
   ]
  },
  {
   "cell_type": "code",
   "execution_count": null,
   "id": "d9c90595",
   "metadata": {},
   "outputs": [],
   "source": [
    "all_df = df.set_index('key').join(df_linker.set_index('vid_id'))"
   ]
  },
  {
   "cell_type": "code",
   "execution_count": null,
   "id": "7a90e327",
   "metadata": {},
   "outputs": [],
   "source": [
    "all_df = all_df[all_df['subset'] == 'training']\n"
   ]
  },
  {
   "cell_type": "code",
   "execution_count": null,
   "id": "6b8e2473",
   "metadata": {},
   "outputs": [],
   "source": [
    "all_df['segment']"
   ]
  },
  {
   "cell_type": "code",
   "execution_count": null,
   "id": "af11c60f",
   "metadata": {},
   "outputs": [],
   "source": []
  }
 ],
 "metadata": {
  "kernelspec": {
   "display_name": "Python 3 (ipykernel)",
   "language": "python",
   "name": "python3"
  },
  "language_info": {
   "codemirror_mode": {
    "name": "ipython",
    "version": 3
   },
   "file_extension": ".py",
   "mimetype": "text/x-python",
   "name": "python",
   "nbconvert_exporter": "python",
   "pygments_lexer": "ipython3",
   "version": "3.8.10"
  }
 },
 "nbformat": 4,
 "nbformat_minor": 5
}
